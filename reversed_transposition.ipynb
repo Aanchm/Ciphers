{
 "cells": [
  {
   "attachments": {},
   "cell_type": "markdown",
   "metadata": {},
   "source": [
    "# Double Encrypted Transposition Cipher\n",
    "1. The cipher is reversed"
   ]
  },
  {
   "cell_type": "code",
   "execution_count": 9,
   "metadata": {},
   "outputs": [],
   "source": [
    "cipher = \"LWAU ARLMS ORYDA OOBYH HULST ROSEN INAEC TIIUH EIR\"\n",
    "cipher = cipher[::-1].replace(\" \", \"\")"
   ]
  },
  {
   "attachments": {},
   "cell_type": "markdown",
   "metadata": {},
   "source": [
    "2. 21 is a factor of the length. The cipher is encoded in chunks of length 21. \n",
    "3. Each chunk is encoded using a transposition cipher (written out in rows and encoded in columns)"
   ]
  },
  {
   "cell_type": "code",
   "execution_count": 43,
   "metadata": {},
   "outputs": [],
   "source": [
    "def decipher_chunk(chunk):\n",
    "    grouped_chunk = [chunk[3*i:(3*i)+3] for i in range(7)]\n",
    "    pt_chunk = \"\"\n",
    "    col_order = [1, 3, 2, 0, 5, 4, 6]\n",
    "    \n",
    "    for i in range(3):\n",
    "        for j in col_order:\n",
    "            pt_chunk += grouped_chunk[j][i]\n",
    "\n",
    "    return pt_chunk"
   ]
  },
  {
   "cell_type": "code",
   "execution_count": 46,
   "metadata": {},
   "outputs": [
    {
     "name": "stdout",
     "output_type": "stream",
     "text": [
      "HEIRSITUATIONSINCERELYYOURSABRAHAMWOODHULL\n"
     ]
    }
   ],
   "source": [
    "chunk_length = 21\n",
    "no_chunks = int(len(cipher)/chunk_length)\n",
    "pt = \"\"\n",
    "\n",
    "for i in range(no_chunks):\n",
    "    chunk = cipher[i*chunk_length:(i+1)*chunk_length]\n",
    "    pt += decipher_chunk(chunk)\n",
    "\n",
    "print(pt)"
   ]
  }
 ],
 "metadata": {
  "kernelspec": {
   "display_name": "Python 3",
   "language": "python",
   "name": "python3"
  },
  "language_info": {
   "codemirror_mode": {
    "name": "ipython",
    "version": 3
   },
   "file_extension": ".py",
   "mimetype": "text/x-python",
   "name": "python",
   "nbconvert_exporter": "python",
   "pygments_lexer": "ipython3",
   "version": "3.10.2"
  },
  "orig_nbformat": 4,
  "vscode": {
   "interpreter": {
    "hash": "26de051ba29f2982a8de78e945f0abaf191376122a1563185a90213a26c5da77"
   }
  }
 },
 "nbformat": 4,
 "nbformat_minor": 2
}
